{
  "nbformat": 4,
  "nbformat_minor": 0,
  "metadata": {
    "colab": {
      "provenance": [],
      "authorship_tag": "ABX9TyPf0zb0pbdld+Nl+eLFVfqa",
      "include_colab_link": true
    },
    "kernelspec": {
      "name": "python3",
      "display_name": "Python 3"
    },
    "language_info": {
      "name": "python"
    }
  },
  "cells": [
    {
      "cell_type": "markdown",
      "metadata": {
        "id": "view-in-github",
        "colab_type": "text"
      },
      "source": [
        "<a href=\"https://colab.research.google.com/github/PathaniaOO/daily-python-practice/blob/main/Python_practise.ipynb\" target=\"_parent\"><img src=\"https://colab.research.google.com/assets/colab-badge.svg\" alt=\"Open In Colab\"/></a>"
      ]
    },
    {
      "cell_type": "code",
      "execution_count": 2,
      "metadata": {
        "id": "04dNA4akGLqz",
        "colab": {
          "base_uri": "https://localhost:8080/"
        },
        "outputId": "290e13e2-8eb1-4f96-cb42-1e0923938891"
      },
      "outputs": [
        {
          "output_type": "stream",
          "name": "stdout",
          "text": [
            "10\n",
            "20\n"
          ]
        }
      ],
      "source": [
        "def gcd(a,b):\n",
        "  if b==0:\n",
        "    return a\n",
        "  return gcd(b,a%b)\n",
        "def lcm (a,b):\n",
        "  return a*b//gcd(a,b)\n",
        "\n",
        "\n",
        "print(gcd(10,20))\n",
        "print(lcm(10,20))"
      ]
    },
    {
      "cell_type": "code",
      "source": [
        "def mul_table(x):\n",
        "  result=[x*i for i in range(1,11)]\n",
        "  return result\n",
        "print(mul_table(2))"
      ],
      "metadata": {
        "colab": {
          "base_uri": "https://localhost:8080/"
        },
        "id": "m8SCDZYVIrfa",
        "outputId": "fbb0eac0-8c5f-4e0a-b74b-7c4c0d9fd8d9"
      },
      "execution_count": 16,
      "outputs": [
        {
          "output_type": "stream",
          "name": "stdout",
          "text": [
            "[2, 4, 6, 8, 10, 12, 14, 16, 18, 20]\n"
          ]
        }
      ]
    },
    {
      "cell_type": "code",
      "source": [
        "def cel_to_farehn(n):\n",
        "  return (n*9/5)+32\n",
        "\n",
        "print(cel_to_farehn(70))\n"
      ],
      "metadata": {
        "colab": {
          "base_uri": "https://localhost:8080/"
        },
        "id": "e_6ObMTsKO5J",
        "outputId": "9561a14a-461b-4960-bf0a-6ff027d5288d"
      },
      "execution_count": 17,
      "outputs": [
        {
          "output_type": "stream",
          "name": "stdout",
          "text": [
            "158.0\n"
          ]
        }
      ]
    },
    {
      "cell_type": "code",
      "source": [
        "def pow_of(x,y):\n",
        "  if x==0 and y==0:\n",
        "    return 0\n",
        "  total=[]\n",
        "  for i in range(x):\n",
        "    result=i**y\n",
        "    total.append(result)\n",
        "  return total\n",
        "\n",
        "print(pow_of(10,2))\n",
        "\n"
      ],
      "metadata": {
        "colab": {
          "base_uri": "https://localhost:8080/"
        },
        "id": "pj_27Ky5MbaW",
        "outputId": "ab238d01-ad40-4082-b559-3368f1315b4f"
      },
      "execution_count": 23,
      "outputs": [
        {
          "output_type": "stream",
          "name": "stdout",
          "text": [
            "[0, 1, 4, 9, 16, 25, 36, 49, 64, 81]\n"
          ]
        }
      ]
    },
    {
      "cell_type": "code",
      "source": [
        "def check_number_perfect(start,end):\n",
        "  return[i*i for i in range (start,end+1) if start<=i*i<=end]\n",
        "\n",
        "print(check_number_perfect(1,100))"
      ],
      "metadata": {
        "colab": {
          "base_uri": "https://localhost:8080/"
        },
        "id": "2zTZRfslOnrR",
        "outputId": "a50307f4-4990-46ee-8792-8e7dc9cbbe93"
      },
      "execution_count": 25,
      "outputs": [
        {
          "output_type": "stream",
          "name": "stdout",
          "text": [
            "[1, 4, 9, 16, 25, 36, 49, 64, 81, 100]\n"
          ]
        }
      ]
    },
    {
      "cell_type": "code",
      "source": [
        "def first_n(n):\n",
        "  return n*(n+1)//2\n",
        "\n",
        "print(first_n(10))"
      ],
      "metadata": {
        "colab": {
          "base_uri": "https://localhost:8080/"
        },
        "id": "feDgt1csQO1a",
        "outputId": "3f9f87e0-bd83-4fa7-9873-7eff8e56dd92"
      },
      "execution_count": 26,
      "outputs": [
        {
          "output_type": "stream",
          "name": "stdout",
          "text": [
            "55\n"
          ]
        }
      ]
    },
    {
      "cell_type": "code",
      "source": [
        "def add(a,b):\n",
        "  return a+b\n",
        "def Subtract(a,b):\n",
        "  return a-b\n",
        "def multiply(a,b):\n",
        "  return a*b\n",
        "def Divide(a,b):\n",
        "  if b==0:\n",
        "    return \"Invalid\"\n",
        "  return a/b\n",
        "def calci():\n",
        "  print('Select Operation')\n",
        "  print(\"1.Add\\n2.Subtract\\n3.Multiply\\n4.Division\")\n",
        "  choice=int(input(\"Enter Choice:\"))\n",
        "\n",
        "  a=float(input(\"Enter First Number:\"))\n",
        "  b=float(input(\"Enter Second Number:\"))\n",
        "\n",
        "  if choice == 1:\n",
        "        print(\"Result:\", add(a, b))\n",
        "  elif choice == 2:\n",
        "        print(\"Result:\", Subtract(a, b))\n",
        "  elif choice == 3:\n",
        "        print(\"Result:\", multiply(a, b))\n",
        "  elif choice == 4:\n",
        "        print(\"Result:\", Divide(a, b))\n",
        "  else:\n",
        "        print(\"Invalid choice!\")\n",
        "\n",
        "calci()"
      ],
      "metadata": {
        "colab": {
          "base_uri": "https://localhost:8080/"
        },
        "id": "FBaaLBkZQdiN",
        "outputId": "2f83e834-0a12-434e-e549-a383f92e1477"
      },
      "execution_count": 31,
      "outputs": [
        {
          "output_type": "stream",
          "name": "stdout",
          "text": [
            "Select Operation\n",
            "1.Add\n",
            "2.Subtract\n",
            "3.Multiply\n",
            "4.Division\n",
            "Enter Choice:1\n",
            "Enter First Number:90\n",
            "Enter Second Number:40\n",
            "Result: 130.0\n"
          ]
        }
      ]
    },
    {
      "cell_type": "code",
      "source": [
        "def product_of(n):\n",
        "  result=list(map(lambda x:x*x,n))\n",
        "  return result\n",
        "\n",
        "print(product_of([1,2,3,4,5]))"
      ],
      "metadata": {
        "colab": {
          "base_uri": "https://localhost:8080/"
        },
        "id": "TVFnbL2HTFRE",
        "outputId": "5eaccc40-2dbb-4254-d713-4ecc5415f47c"
      },
      "execution_count": 34,
      "outputs": [
        {
          "output_type": "stream",
          "name": "stdout",
          "text": [
            "[1, 4, 9, 16, 25]\n"
          ]
        }
      ]
    },
    {
      "cell_type": "code",
      "source": [
        "def flatten(lst):\n",
        "  result=[]\n",
        "  for nums in lst:\n",
        "    if isinstance(nums,list):\n",
        "      result.extend(flatten(nums))\n",
        "    else:\n",
        "      result.append(nums)\n",
        "  return result\n",
        "\n",
        "\n",
        "print(flatten([1, [2, [3, 4]], 5]))"
      ],
      "metadata": {
        "colab": {
          "base_uri": "https://localhost:8080/"
        },
        "id": "9mjrQkcp55tb",
        "outputId": "5d9c262b-0726-4cf5-8fdc-bacd217f8681"
      },
      "execution_count": 2,
      "outputs": [
        {
          "output_type": "stream",
          "name": "stdout",
          "text": [
            "[1, 2, 3, 4, 5]\n"
          ]
        }
      ]
    },
    {
      "cell_type": "code",
      "source": [
        "def non_repeating(s):\n",
        "  freq={}\n",
        "  for items in s:\n",
        "    freq[items]=freq.get(items,0)+1\n",
        "  for items in s:\n",
        "    if freq[items]==1:\n",
        "      return items\n",
        "  return None\n",
        "print(non_repeating('MadaM'))\n",
        ""
      ],
      "metadata": {
        "colab": {
          "base_uri": "https://localhost:8080/"
        },
        "id": "DOgGJ46P80Pg",
        "outputId": "f686ee10-4646-4ccb-c08c-7d5cc8c14ffe"
      },
      "execution_count": 7,
      "outputs": [
        {
          "output_type": "stream",
          "name": "stdout",
          "text": [
            "d\n"
          ]
        }
      ]
    },
    {
      "cell_type": "code",
      "source": [
        "def remove_falsly(lst):\n",
        "  return[item for item in lst if item]\n",
        "\n",
        "print(remove_falsly([0,1,False,2,'',3,'a','s',34]))\n"
      ],
      "metadata": {
        "colab": {
          "base_uri": "https://localhost:8080/"
        },
        "id": "dc8wt-15-9VT",
        "outputId": "41b274fe-b073-46e9-db8b-e47a51e3764b"
      },
      "execution_count": 9,
      "outputs": [
        {
          "output_type": "stream",
          "name": "stdout",
          "text": [
            "[1, 2, 3, 'a', 's', 34]\n"
          ]
        }
      ]
    },
    {
      "cell_type": "code",
      "source": [
        "class login:\n",
        "  def __init__(self,name,password) -> None:\n",
        "     self.name=name\n",
        "     self.email=name+'@gmail.com'\n",
        "     self.__password=password\n",
        "\n",
        "  def login(self):\n",
        "    print(f\"Welcome {self.name}\")\n",
        "\n",
        "  def get_password(self):\n",
        "    return self.__password\n",
        "\n",
        "e1=login('Andre','1234')\n",
        "e1.login()\n",
        "print(e1.email)\n",
        "print(e1.get_password())"
      ],
      "metadata": {
        "colab": {
          "base_uri": "https://localhost:8080/"
        },
        "id": "XHPjU5aKA8kG",
        "outputId": "7fd433f5-f6cb-4335-fa34-896377612831"
      },
      "execution_count": 15,
      "outputs": [
        {
          "output_type": "stream",
          "name": "stdout",
          "text": [
            "Welcome Andre\n",
            "Andre@gmail.com\n",
            "1234\n"
          ]
        }
      ]
    },
    {
      "cell_type": "code",
      "source": [
        "import random\n",
        "\n",
        "def dice_roll(n):\n",
        "  l=random.randint(1,n)\n",
        "  print(l)\n",
        "\n",
        "dice_roll(6)"
      ],
      "metadata": {
        "colab": {
          "base_uri": "https://localhost:8080/"
        },
        "id": "csDgT9V_BFL6",
        "outputId": "2b4cb6d3-238f-479d-d7a2-bb3a57a4ef15"
      },
      "execution_count": 22,
      "outputs": [
        {
          "output_type": "stream",
          "name": "stdout",
          "text": [
            "3\n"
          ]
        }
      ]
    },
    {
      "cell_type": "code",
      "source": [
        "def count_freq(s):\n",
        "  words=s.split()\n",
        "  freq={}\n",
        "\n",
        "  for items in words:\n",
        "    freq[items]=freq.get(items,0)+1\n",
        "  return freq\n",
        "\n",
        "print(count_freq('Rolling a dice in Python is a fun way to practice using the random module. With just a single function call like random.randint(1, 6), you can simulate the outcome of a real 6-sided die. This concept is often used in beginner projects, games, and probability simulations.'))"
      ],
      "metadata": {
        "colab": {
          "base_uri": "https://localhost:8080/"
        },
        "id": "mxGlLr0iD2uO",
        "outputId": "8c04ead4-4b51-4d5e-de55-8444989db624"
      },
      "execution_count": 26,
      "outputs": [
        {
          "output_type": "stream",
          "name": "stdout",
          "text": [
            "{'Rolling': 1, 'a': 4, 'dice': 1, 'in': 2, 'Python': 1, 'is': 2, 'fun': 1, 'way': 1, 'to': 1, 'practice': 1, 'using': 1, 'the': 2, 'random': 1, 'module.': 1, 'With': 1, 'just': 1, 'single': 1, 'function': 1, 'call': 1, 'like': 1, 'random.randint(1,': 1, '6),': 1, 'you': 1, 'can': 1, 'simulate': 1, 'outcome': 1, 'of': 1, 'real': 1, '6-sided': 1, 'die.': 1, 'This': 1, 'concept': 1, 'often': 1, 'used': 1, 'beginner': 1, 'projects,': 1, 'games,': 1, 'and': 1, 'probability': 1, 'simulations.': 1}\n"
          ]
        }
      ]
    },
    {
      "cell_type": "code",
      "source": [
        "def intersection_sets(arr1,arr2):\n",
        "  f1={}\n",
        "  f2={}\n",
        "  for i in arr1:\n",
        "    f1[i]=f1.get(i,0)+1\n",
        "\n",
        "  for i in arr2:\n",
        "    f2[i]=f2.get(i,0)+1\n",
        "\n",
        "  result=[]\n",
        "  for i in f1:\n",
        "    if i not in f2 and i not in result:\n",
        "      result.append(i)\n",
        "  for j in f2:\n",
        "    if j not in f1 and j not in result:\n",
        "      result.append(j)\n",
        "  return result\n",
        "\n",
        "print(intersection_sets([1, 2, 3, 4], [3, 4, 5, 6]))\n"
      ],
      "metadata": {
        "colab": {
          "base_uri": "https://localhost:8080/"
        },
        "id": "fAalm2C5Ezso",
        "outputId": "6051c7da-bfd2-49e5-d3ae-023561a35f64"
      },
      "execution_count": 31,
      "outputs": [
        {
          "output_type": "stream",
          "name": "stdout",
          "text": [
            "[1, 2, 5, 6]\n"
          ]
        }
      ]
    },
    {
      "cell_type": "code",
      "source": [
        "def check_sorted(lst):\n",
        "  n=len(lst)\n",
        "  for i in range(1,n):\n",
        "    if lst[i]<lst[i-1]:\n",
        "      return False\n",
        "  return True\n",
        "\n",
        "print(check_sorted([1,2,3,4,5]))"
      ],
      "metadata": {
        "colab": {
          "base_uri": "https://localhost:8080/"
        },
        "id": "DknzQHS2Hgsb",
        "outputId": "e24a1023-5b87-44a2-a38f-8db501926d21"
      },
      "execution_count": 33,
      "outputs": [
        {
          "output_type": "stream",
          "name": "stdout",
          "text": [
            "True\n"
          ]
        }
      ]
    },
    {
      "cell_type": "code",
      "source": [
        "def pagination_style(data,page_size):\n",
        "  pages=[]\n",
        "  for i in range(0,len(data),page_size):\n",
        "    pages.append(data[i:i+page_size])\n",
        "  return pages\n",
        "\n",
        "print(pagination_style([1, 2, 3, 4, 5, 6, 7, 8, 9, 10],3))"
      ],
      "metadata": {
        "colab": {
          "base_uri": "https://localhost:8080/"
        },
        "id": "SGdc1SBsJqkC",
        "outputId": "585dc9bd-ca2d-464f-fcef-4b0274c2ed4d"
      },
      "execution_count": 35,
      "outputs": [
        {
          "output_type": "stream",
          "name": "stdout",
          "text": [
            "[[1, 2, 3], [4, 5, 6], [7, 8, 9], [10]]\n"
          ]
        }
      ]
    },
    {
      "cell_type": "code",
      "source": [
        "def leader_array(arr):\n",
        "  n=len(arr)\n",
        "  ans=[]\n",
        "  max=arr[n-1]\n",
        "  ans.append(max)\n",
        "\n",
        "  for i in range(n-2,-1,-1):\n",
        "    if arr[i]>max:\n",
        "      ans.append(arr[i])\n",
        "      max=arr[i]\n",
        "  ans.reverse()\n",
        "  return ans\n",
        "\n",
        "print(leader_array([10,22,12,0,3,6]))"
      ],
      "metadata": {
        "id": "MAITQmNAFSN6",
        "outputId": "22e6d5fa-e9f0-4b27-e060-1bf5e90e06c5",
        "colab": {
          "base_uri": "https://localhost:8080/"
        }
      },
      "execution_count": 7,
      "outputs": [
        {
          "output_type": "stream",
          "name": "stdout",
          "text": [
            "[22, 12, 6]\n"
          ]
        }
      ]
    }
  ]
}