{
  "nbformat": 4,
  "nbformat_minor": 0,
  "metadata": {
    "colab": {
      "provenance": [],
      "authorship_tag": "ABX9TyMLcQTxTe6Lt/QVSskKUtoe",
      "include_colab_link": true
    },
    "kernelspec": {
      "name": "python3",
      "display_name": "Python 3"
    },
    "language_info": {
      "name": "python"
    }
  },
  "cells": [
    {
      "cell_type": "markdown",
      "metadata": {
        "id": "view-in-github",
        "colab_type": "text"
      },
      "source": [
        "<a href=\"https://colab.research.google.com/github/PathaniaOO/daily-python-practice/blob/main/Python_practise.ipynb\" target=\"_parent\"><img src=\"https://colab.research.google.com/assets/colab-badge.svg\" alt=\"Open In Colab\"/></a>"
      ]
    },
    {
      "cell_type": "code",
      "execution_count": 2,
      "metadata": {
        "id": "04dNA4akGLqz",
        "colab": {
          "base_uri": "https://localhost:8080/"
        },
        "outputId": "290e13e2-8eb1-4f96-cb42-1e0923938891"
      },
      "outputs": [
        {
          "output_type": "stream",
          "name": "stdout",
          "text": [
            "10\n",
            "20\n"
          ]
        }
      ],
      "source": [
        "def gcd(a,b):\n",
        "  if b==0:\n",
        "    return a\n",
        "  return gcd(b,a%b)\n",
        "def lcm (a,b):\n",
        "  return a*b//gcd(a,b)\n",
        "\n",
        "\n",
        "print(gcd(10,20))\n",
        "print(lcm(10,20))"
      ]
    },
    {
      "cell_type": "code",
      "source": [
        "def mul_table(x):\n",
        "  result=[x*i for i in range(1,11)]\n",
        "  return result\n",
        "print(mul_table(2))"
      ],
      "metadata": {
        "colab": {
          "base_uri": "https://localhost:8080/"
        },
        "id": "m8SCDZYVIrfa",
        "outputId": "fbb0eac0-8c5f-4e0a-b74b-7c4c0d9fd8d9"
      },
      "execution_count": 16,
      "outputs": [
        {
          "output_type": "stream",
          "name": "stdout",
          "text": [
            "[2, 4, 6, 8, 10, 12, 14, 16, 18, 20]\n"
          ]
        }
      ]
    },
    {
      "cell_type": "code",
      "source": [
        "def cel_to_farehn(n):\n",
        "  return (n*9/5)+32\n",
        "\n",
        "print(cel_to_farehn(70))\n"
      ],
      "metadata": {
        "colab": {
          "base_uri": "https://localhost:8080/"
        },
        "id": "e_6ObMTsKO5J",
        "outputId": "9561a14a-461b-4960-bf0a-6ff027d5288d"
      },
      "execution_count": 17,
      "outputs": [
        {
          "output_type": "stream",
          "name": "stdout",
          "text": [
            "158.0\n"
          ]
        }
      ]
    },
    {
      "cell_type": "code",
      "source": [
        "def pow_of(x,y):\n",
        "  if x==0 and y==0:\n",
        "    return 0\n",
        "  total=[]\n",
        "  for i in range(x):\n",
        "    result=i**y\n",
        "    total.append(result)\n",
        "  return total\n",
        "\n",
        "print(pow_of(10,2))\n",
        "\n"
      ],
      "metadata": {
        "colab": {
          "base_uri": "https://localhost:8080/"
        },
        "id": "pj_27Ky5MbaW",
        "outputId": "ab238d01-ad40-4082-b559-3368f1315b4f"
      },
      "execution_count": 23,
      "outputs": [
        {
          "output_type": "stream",
          "name": "stdout",
          "text": [
            "[0, 1, 4, 9, 16, 25, 36, 49, 64, 81]\n"
          ]
        }
      ]
    },
    {
      "cell_type": "code",
      "source": [
        "def check_number_perfect(start,end):\n",
        "  return[i*i for i in range (start,end+1) if start<=i*i<=end]\n",
        "\n",
        "print(check_number_perfect(1,100))"
      ],
      "metadata": {
        "colab": {
          "base_uri": "https://localhost:8080/"
        },
        "id": "2zTZRfslOnrR",
        "outputId": "a50307f4-4990-46ee-8792-8e7dc9cbbe93"
      },
      "execution_count": 25,
      "outputs": [
        {
          "output_type": "stream",
          "name": "stdout",
          "text": [
            "[1, 4, 9, 16, 25, 36, 49, 64, 81, 100]\n"
          ]
        }
      ]
    },
    {
      "cell_type": "code",
      "source": [
        "def first_n(n):\n",
        "  return n*(n+1)//2\n",
        "\n",
        "print(first_n(10))"
      ],
      "metadata": {
        "colab": {
          "base_uri": "https://localhost:8080/"
        },
        "id": "feDgt1csQO1a",
        "outputId": "3f9f87e0-bd83-4fa7-9873-7eff8e56dd92"
      },
      "execution_count": 26,
      "outputs": [
        {
          "output_type": "stream",
          "name": "stdout",
          "text": [
            "55\n"
          ]
        }
      ]
    },
    {
      "cell_type": "code",
      "source": [
        "def add(a,b):\n",
        "  return a+b\n",
        "def Subtract(a,b):\n",
        "  return a-b\n",
        "def multiply(a,b):\n",
        "  return a*b\n",
        "def Divide(a,b):\n",
        "  if b==0:\n",
        "    return \"Invalid\"\n",
        "  return a/b\n",
        "def calci():\n",
        "  print('Select Operation')\n",
        "  print(\"1.Add\\n2.Subtract\\n3.Multiply\\n4.Division\")\n",
        "  choice=int(input(\"Enter Choice:\"))\n",
        "\n",
        "  a=float(input(\"Enter First Number:\"))\n",
        "  b=float(input(\"Enter Second Number:\"))\n",
        "\n",
        "  if choice == 1:\n",
        "        print(\"Result:\", add(a, b))\n",
        "  elif choice == 2:\n",
        "        print(\"Result:\", Subtract(a, b))\n",
        "  elif choice == 3:\n",
        "        print(\"Result:\", multiply(a, b))\n",
        "  elif choice == 4:\n",
        "        print(\"Result:\", Divide(a, b))\n",
        "  else:\n",
        "        print(\"Invalid choice!\")\n",
        "\n",
        "calci()"
      ],
      "metadata": {
        "colab": {
          "base_uri": "https://localhost:8080/"
        },
        "id": "FBaaLBkZQdiN",
        "outputId": "2f83e834-0a12-434e-e549-a383f92e1477"
      },
      "execution_count": 31,
      "outputs": [
        {
          "output_type": "stream",
          "name": "stdout",
          "text": [
            "Select Operation\n",
            "1.Add\n",
            "2.Subtract\n",
            "3.Multiply\n",
            "4.Division\n",
            "Enter Choice:1\n",
            "Enter First Number:90\n",
            "Enter Second Number:40\n",
            "Result: 130.0\n"
          ]
        }
      ]
    },
    {
      "cell_type": "code",
      "source": [
        "def product_of(n):\n",
        "  result=list(map(lambda x:x*x,n))\n",
        "  return result\n",
        "\n",
        "print(product_of([1,2,3,4,5]))"
      ],
      "metadata": {
        "id": "TVFnbL2HTFRE",
        "outputId": "5eaccc40-2dbb-4254-d713-4ecc5415f47c",
        "colab": {
          "base_uri": "https://localhost:8080/"
        }
      },
      "execution_count": 34,
      "outputs": [
        {
          "output_type": "stream",
          "name": "stdout",
          "text": [
            "[1, 4, 9, 16, 25]\n"
          ]
        }
      ]
    }
  ]
}